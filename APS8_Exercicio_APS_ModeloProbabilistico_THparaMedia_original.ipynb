{
 "cells": [
  {
   "cell_type": "markdown",
   "metadata": {},
   "source": [
    "# Exercícios: \n",
    "\n",
    "# Modelos Probabilísticos Contínuos (Aulas 12; 13 e 16)\n",
    "\n",
    "# Testes de Hipóteses para média populacional (Aulas 21 e 22)\n",
    "___\n",
    "\n",
    "## Enunciados para APS8"
   ]
  },
  {
   "cell_type": "markdown",
   "metadata": {},
   "source": [
    "<div id=\"indice\"></div>\n",
    "\n",
    "## Índice\n",
    "\n",
    "- [Exercício 1](#ex1)\n",
    "- [Exercício 2](#ex2)\n",
    "- [Exercício 3](#ex3)\n",
    "\n",
    "___"
   ]
  },
  {
   "cell_type": "code",
   "execution_count": 1,
   "metadata": {},
   "outputs": [],
   "source": [
    "%matplotlib inline\n",
    "\n",
    "import pandas as pd\n",
    "import numpy as np\n",
    "import matplotlib.pyplot as plt\n",
    "\n",
    "import scipy.stats as stats\n"
   ]
  },
  {
   "cell_type": "markdown",
   "metadata": {},
   "source": [
    "<div id=\"ex1\"></div>\n",
    "\n",
    "## EXERCÍCIO 1 - Formulação de hipóteses\n",
    "\n",
    "Para cada **Problema** a seguir, descreva a **variável de interesse** e as **hipóteses em termos do problema e em termos estatísticos**.\n",
    "\n",
    "Símbolos úteis (se precisar e/ou quiser usar): $\\quad\\mu \\quad> \\quad< \\quad\\leq \\quad\\geq \\quad\\neq$"
   ]
  },
  {
   "cell_type": "markdown",
   "metadata": {},
   "source": [
    "**A. Problema -**\n",
    "Um artigo publicado na Food Chemistry fala sobre o percentual de proteina extraída a partir do leite de amendoim. Com 95% de confiança, é possível afirmar que o percentual médio de proteina extraída está abaixo de 80 por cento?\n",
    "\n",
    "  * Definição da variável de interesse: X: \n",
    "  \n",
    "Percentual de proteina extraída a partir do leite amedoim \n",
    "  \n",
    "  * Hipóteses em termos do problema e em termos estatísticos:\n",
    "\n",
    "$H_0:$ Percentual de proteina extraida a partir do leite de amendoim está acima ou igual de 80% $\\Rightarrow H_0: mu >= 0.8\n",
    "\n",
    "$H_1:$ Percentual de proteina extraida a partir do leite de amendoim está abaixo $\\Rightarrow H_1:$ mu<0.8\n",
    "\n",
    "*Pergunta 1 da APS8 do Blackboard*\n",
    "\n",
    "<br>"
   ]
  },
  {
   "cell_type": "markdown",
   "metadata": {},
   "source": [
    "**B. Problema -**\n",
    "Para melhores políticas habitacionais para pessoas de baixa renda, uma prefeitura deseja estudar a quantidade de membros em famílias de baixa renda. Com 95% de confiança, é possível afirmar que a quantidade média de pessoas em famílias de baixa  renda excede 4 membros?\n",
    "\n",
    "  * Definição da variável de interesse: X: \n",
    "  \n",
    "Quantidade de membros em famílias de baixa renda.\n",
    "  \n",
    "  * Hipóteses em termos do problema e em termos estatísticos:\n",
    "\n",
    "$H_0:$ [ESCREVA AQUI EM TERMOS DO PROBLEMA!] $\\Rightarrow H_0:$ [ESCREVA AQUI EM TERMOS DO PARÂMETRO!]\n",
    "\n",
    "$H_1:$ [ESCREVA AQUI EM TERMOS DO PROBLEMA!] $\\Rightarrow H_1:$ [ESCREVA AQUI EM TERMOS DO PARÂMETRO!]\n",
    "\n",
    "*Pergunta 2 da APS8 do Blackboard*\n",
    "\n",
    "<br>"
   ]
  },
  {
   "cell_type": "markdown",
   "metadata": {},
   "source": [
    "**C. Problema -**\n",
    "Um dos maiores problemas de uma grande rede de vendas a varejo é a adequação de peças em estoque de cada produto. Para cumprir com a demanda sem ter um excesso de peças em estoque e sem ficar sem peças para vender, o departamento da área definiu que cada produto deve ter 50 peças em estoque para equilíbrio. Uma amostra de 30 momentos diferentes, a média amostral foi igual a 55 peças com desvio padrão amostral igual a 2 peças.\n",
    "Com 95% de confiança, é possível afirmar que, em média, a quantidade definida pelo departamento está sendo cumprida?\n",
    "\n",
    "  * Definição da variável de interesse: X: \n",
    "  \n",
    "[ESCREVA AQUI]\n",
    "  \n",
    "  * Hipóteses em termos do problema e em termos estatísticos:\n",
    "\n",
    "$H_0:$ [ESCREVA AQUI EM TERMOS DO PROBLEMA!] $\\Rightarrow H_0:$ [ESCREVA AQUI EM TERMOS DO PARÂMETRO!]\n",
    "\n",
    "$H_1:$ [ESCREVA AQUI EM TERMOS DO PROBLEMA!] $\\Rightarrow H_1:$ [ESCREVA AQUI EM TERMOS DO PARÂMETRO!]\n",
    "\n",
    "*Pergunta 3 da APS8 do Blackboard*"
   ]
  },
  {
   "cell_type": "markdown",
   "metadata": {},
   "source": [
    "___\n",
    "<div id=\"ex2\"></div>\n",
    "\n",
    "## EXERCÍCIO 2 - Teste de hipóteses\n",
    "\n",
    "`Fonte: baseado na literatura Montgomery e Runger (2016)`\n",
    "\n",
    "**Problema** -  \n",
    "Atualmente, estudos dizem que famílias de classe média gastam exatamente metade da receita familiar com alimentação. \n",
    "\n",
    "Para avaliar tal afirmação, a variável de interesse será: `X: percentual de gasto da receita familiar com alimentação de cada família`, cujo valor médio é representado por $\\mu$ e a variância, representada por $\\sigma^2$.\n",
    "\n",
    "Nesse caso, as hipóteses em termos do problema e do parâmetro ficam:\n",
    "\n",
    "$\\qquad H_0:$ Afirmação do estudo procede $\\Rightarrow H_0: \\mu = 50$ \n",
    "\n",
    "$\\qquad H_1:$ Afirmação do estudo não procede $\\Rightarrow H_1: \\mu \\neq 50$"
   ]
  },
  {
   "cell_type": "markdown",
   "metadata": {},
   "source": [
    "Uma amostra de 16 famílias com tais características foi selecionada e os valores observados para a variável de interesse foram:"
   ]
  },
  {
   "cell_type": "code",
   "execution_count": 19,
   "metadata": {},
   "outputs": [],
   "source": [
    "amostra = pd.Series([42, 45, 46, 48, 44, 45, 42, 52,\n",
    "                     47, 51, 56, 53, 40, 45, 48, 50])"
   ]
  },
  {
   "cell_type": "markdown",
   "metadata": {},
   "source": [
    "**Escolha adequadamente** uma das metodologias exploradas nas `Aula 19` a `Aula 21` e faça:\n",
    "\n",
    "> i. Construa a Região Crítica do teste de hipóteses assumindo $\\alpha =0.10$ e faça uma conclusão em termos do problema.\n",
    "\n",
    "> ii. Calcule o valor_p e faça novamente uma conclusão em termos do problema. \n",
    "\n",
    "> iii. Descreva a suposição necessária sobre a variável de interesse `percentual de gasto da receita familiar com alimentação de cada família` para que a metodologia utilizada nos dois itens anteriores seja válida. \n",
    "\n",
    "\n",
    "*Pergunta 4 da APS8 do Blackboard*"
   ]
  },
  {
   "cell_type": "markdown",
   "metadata": {},
   "source": [
    "**Respostas:**"
   ]
  },
  {
   "cell_type": "code",
   "execution_count": 20,
   "metadata": {},
   "outputs": [],
   "source": [
    "# ESCREVA SEU CÓDIGO AQUI"
   ]
  },
  {
   "cell_type": "code",
   "execution_count": 21,
   "metadata": {},
   "outputs": [],
   "source": [
    "#PRIMEIRO: definir parametros conhecidos e estimar sigma amostral (s)\n",
    "mu_0=50\n",
    "mu_amostra=amostra.mean()\n",
    "s=np.std(amostra, ddof=1)\n",
    "n=16"
   ]
  },
  {
   "cell_type": "code",
   "execution_count": 22,
   "metadata": {},
   "outputs": [],
   "source": [
    "#SEGUNDO: definir a média amostral na distribuição t-Student\n",
    "t_obs=(mu_amostra-mu_0)/(s/np.sqrt(n))"
   ]
  },
  {
   "cell_type": "code",
   "execution_count": 23,
   "metadata": {},
   "outputs": [
    {
     "name": "stdout",
     "output_type": "stream",
     "text": [
      "RC < -1.7530503556925554 e RC > 1.7530503556925547\n",
      "t_obs -2.6165663238309174\n",
      "Conclui-se que a H0 pode ser rejeitada.\n"
     ]
    }
   ],
   "source": [
    "#1 \n",
    "#TERCEIRO: encontrar a região crítica \n",
    "\n",
    "alpha=0.1 #nivel de sigfinicancia (caudinhas)\n",
    "gamma=0.9 #coeficinete de confianca (meio simetrico)\n",
    "\n",
    "limites=stats.t.interval(gamma, df=n-1)\n",
    "t_c_inf=limites[0]\n",
    "t_c_sup=limites[1]\n",
    "\n",
    "print('RC < {0} e RC > {1}'.format(t_c_inf, t_c_sup))\n",
    "print('t_obs {0}'.format(t_obs))\n",
    "print('Conclui-se que a H0 pode ser rejeitada.')"
   ]
  },
  {
   "cell_type": "code",
   "execution_count": 25,
   "metadata": {},
   "outputs": [
    {
     "data": {
      "text/plain": [
       "(0.019446580486304807, 0.1)"
      ]
     },
     "execution_count": 25,
     "metadata": {},
     "output_type": "execute_result"
    }
   ],
   "source": [
    "#2\n",
    "valor_p=stats.t.cdf(t_obs, df=n-1)\n",
    "valor_p_total=2*valor_p\n",
    "valor_p_total, alpha"
   ]
  },
  {
   "cell_type": "markdown",
   "metadata": {},
   "source": [
    "___"
   ]
  },
  {
   "cell_type": "markdown",
   "metadata": {},
   "source": [
    "___\n",
    "<div id=\"ex1\"></div>\n",
    "\n",
    "## EXERCÍCIO 3 - Modelagem do Tempo para resolver uma prova de MatVar\n",
    "\n",
    "Um grupo de alunos de cada uma das três turmas que cursam Ciência dos Dados estava discutindo com intuito de modelar o tempo, em horas, que um aluno irá levar para fazer uma prova de Matemática da Variação. \n",
    "\n",
    "Após cada grupo de alunos chegar a um consenso, foi escolhido um modelo probabilístico contínuo diferente para cada turma A, B e C. Dessa forma, os três modelos foram escolhidos com intuito de descrever o comportamento da variável X: tempo, em horas, que um aluno irá levar para entregar uma prova de Matemática da Variação. Lembrando que um aluno tem até duas horas para fazê-la.\n",
    "\n",
    "Esses três modelos são dados por:\n",
    "\n",
    "> * **Turma A:** $X_A$ segue o seguinte modelo:\n",
    "    $ f(x) = \\left\\{ \\begin{array}[ll]\\\\\n",
    "                +0.4-0.8x & \\rm{se }\\hspace{2mm} 0<x<0.5 \\\\\n",
    "                -0.4+0.8x & \\rm{se }\\hspace{2mm} 0.5\\leq x\\leq2 \\\\\n",
    "                0 & \\rm{caso}\\hspace{2mm}\\rm{contrário} \n",
    "             \\end{array} \\right.$\n",
    "\n",
    "> * **Turma B:** $X_B\\sim Normal(1; 0.3^2)$, ou seja, $\\mu=1$ e $\\sigma=0.3$.\n",
    "\n",
    "> * **Turma C:** $X_C\\sim Uniforme(0; 2)$, ou seja, $a=0$ e $b=2$.\n",
    "\n",
    "\n",
    "\n",
    "\n"
   ]
  },
  {
   "cell_type": "markdown",
   "metadata": {},
   "source": [
    "Admitindo que os alunos façam suas provas de forma independente uns dos outros, responda:\n",
    "\t\n",
    "> i. Estudando o comportamento da função densidade de probabilidade de cada modelo probabilístico, qual você entende ser o mais adequado para descrever o comportamento da variável X? E qual você entende ser o menos adequado? Justifique suas respostas após estudar o comportamento das fdp’s escolhidas por cada turma. *Nota: a fdp da turma A tem que ser construída usando a f(x) dada e, as demais, usando a função `pdf` do `scipy.stats`.\n",
    "\n",
    "> ii. Qual a probabilidade de um aluno da turma B demorar mais do que 1 hora e meia para entregar a prova de Matemática da Variação? E na da turma C? \n",
    "\n",
    "> iii.\tAtualmente, 34% dos alunos estão na turma A, 34% na B e 32% na C. Qual a probabilidade de um aluno qualquer (ou seja, um aluno de qualquer uma dessas três turmas) demorar mais do que uma hora e meia para entregar a prova final dessa disciplina?\n",
    "\n",
    "> iv. Qual o menor tempo de entrega da prova dentre os últimos 20% de alunos que entregam na sala da turma B? E na da turma C? Interprete os resultados.\n",
    "\n",
    "*Perguntas 5 a 8 da APS8 do Blackboard*"
   ]
  },
  {
   "cell_type": "markdown",
   "metadata": {},
   "source": [
    "**Respostas:**"
   ]
  },
  {
   "cell_type": "code",
   "execution_count": 26,
   "metadata": {},
   "outputs": [
    {
     "data": {
      "image/png": "[encoded data removed]",
      "text/plain": [
       "<Figure size 1008x432 with 2 Axes>"
      ]
     },
     "metadata": {
      "needs_background": "light"
     },
     "output_type": "display_data"
    },
    {
     "data": {
      "image/png": "[encoded data removed]",
      "text/plain": [
       "<Figure size 432x288 with 1 Axes>"
      ]
     },
     "metadata": {
      "needs_background": "light"
     },
     "output_type": "display_data"
    }
   ],
   "source": [
    "# ESCREVA SEU CÓDIGO AQUI\n",
    "#1\n",
    "x= np.linspace(0, 2, 1000)\n",
    "\n",
    "#Turma A\n",
    "pdf_a=[]\n",
    "\n",
    "for i in x:\n",
    "    if i<0.5:\n",
    "        pdf_a.append(0.4-0.8*i)\n",
    "    else:\n",
    "        pdf_a.append(-0.4+0.8*i)\n",
    "\n",
    "        \n",
    "#Turma B\n",
    "mu_b=1 \n",
    "sigma_b=0.3\n",
    "pdf_b = stats.norm.pdf(x, loc=mu_b, scale=sigma_b)\n",
    "\n",
    "\n",
    "#Turma C\n",
    "a = 0\n",
    "b=2\n",
    "pdf_c=stats.uniform.pdf(x, loc=a, scale=b-a)\n",
    "\n",
    "\n",
    "plt.figure(figsize=(14, 6))\n",
    "\n",
    "plt.subplot(131)\n",
    "plt.plot(x, pdf_a)\n",
    "plt.title(\"PDF Distribuição Turma A\")\n",
    "plt.xlabel(\"Tempo\")\n",
    "plt.ylabel(\"Densidade\")\n",
    "\n",
    "plt.subplot(132)\n",
    "plt.plot(x, pdf_b)\n",
    "plt.title(\"PDF Distribuição Turma B\")\n",
    "plt.xlabel(\"Tempo\")\n",
    "plt.ylabel('Densidade')\n",
    "plt.show()\n",
    "\n",
    "\n",
    "plt.subplot(133)\n",
    "plt.plot(x, pdf_c)\n",
    "plt.title(\"PDF Distribuição Turma C\")\n",
    "plt.xlabel(\"Tempo\")\n",
    "plt.ylabel(\"Densidade\")\n",
    "plt.show()\n"
   ]
  },
  {
   "cell_type": "code",
   "execution_count": null,
   "metadata": {},
   "outputs": [],
   "source": []
  },
  {
   "cell_type": "code",
   "execution_count": 9,
   "metadata": {},
   "outputs": [
    {
     "data": {
      "text/plain": [
       "(0.0477903522728147, 0.25)"
      ]
     },
     "execution_count": 9,
     "metadata": {},
     "output_type": "execute_result"
    }
   ],
   "source": [
    "#2\n",
    "p_b=stats.norm.sf(1.5, loc=mu_b, scale=sigma_b)\n",
    "p_c=stats.uniform.sf(1.5, loc=a, scale=b-a)\n",
    "p_b, p_c\n"
   ]
  },
  {
   "cell_type": "code",
   "execution_count": 10,
   "metadata": {},
   "outputs": [
    {
     "data": {
      "text/plain": [
       "0.26624871977275705"
      ]
     },
     "execution_count": 10,
     "metadata": {},
     "output_type": "execute_result"
    }
   ],
   "source": [
    "#3\n",
    "A=0.34\n",
    "B=0.34\n",
    "C=0.32\n",
    "\n",
    "#integral definida: -0.4x+0.8x^2\n",
    "p_a=(-0.4*2+0.4*(2**2))-(-0.4*1.5+0.4*(1.5**2))\n",
    "\n",
    "p=A*p_a+B*p_b+C*p_c\n",
    "p"
   ]
  },
  {
   "cell_type": "code",
   "execution_count": 11,
   "metadata": {},
   "outputs": [],
   "source": [
    "#4\n",
    "#integral definida: -0.4x+0.8x^2\n",
    "\n"
   ]
  },
  {
   "cell_type": "code",
   "execution_count": null,
   "metadata": {},
   "outputs": [],
   "source": []
  },
  {
   "cell_type": "code",
   "execution_count": 12,
   "metadata": {},
   "outputs": [
    {
     "data": {
      "text/plain": [
       "(1.2524863700718742, 1.6)"
      ]
     },
     "execution_count": 12,
     "metadata": {},
     "output_type": "execute_result"
    }
   ],
   "source": [
    "#Tumrma B\n",
    "q_b=stats.norm.ppf(0.8, loc=mu_b, scale=sigma_b)\n",
    "q_c=stats.uniform.ppf(0.8, loc=a, scale=b-a)\n",
    "q_b, q_c"
   ]
  },
  {
   "cell_type": "code",
   "execution_count": null,
   "metadata": {},
   "outputs": [],
   "source": []
  }
 ],
 "metadata": {
  "hide_input": false,
  "kernelspec": {
   "display_name": "Python 3",
   "language": "python",
   "name": "python3"
  },
  "language_info": {
   "codemirror_mode": {
    "name": "ipython",
    "version": 3
   },
   "file_extension": ".py",
   "mimetype": "text/x-python",
   "name": "python",
   "nbconvert_exporter": "python",
   "pygments_lexer": "ipython3",
   "version": "3.7.4"
  }
 },
 "nbformat": 4,
 "nbformat_minor": 2
}
